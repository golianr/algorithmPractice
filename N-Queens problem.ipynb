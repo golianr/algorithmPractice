{
 "cells": [
  {
   "cell_type": "code",
   "execution_count": 1,
   "id": "adae1a2c",
   "metadata": {},
   "outputs": [],
   "source": [
    "# IMPORTS\n",
    "import itertools as it"
   ]
  },
  {
   "cell_type": "code",
   "execution_count": 27,
   "id": "d38399bb",
   "metadata": {},
   "outputs": [],
   "source": [
    "# Bruteforce Solution"
   ]
  },
  {
   "cell_type": "code",
   "execution_count": 11,
   "id": "d9e5d91c",
   "metadata": {},
   "outputs": [],
   "source": [
    "def generate_boards(n):\n",
    "    fields = [(i, j) for i in range(n) for j in range(n)]\n",
    "    \n",
    "    for board in it.combinations(fields, n):\n",
    "        yield board"
   ]
  },
  {
   "cell_type": "code",
   "execution_count": 12,
   "id": "0e85d429",
   "metadata": {},
   "outputs": [],
   "source": [
    "def is_safe_board(board, n):\n",
    "    if len(board) != n:\n",
    "        return False\n",
    "    \n",
    "    for i in range(n):\n",
    "        x1, y1 = board[i]\n",
    "\n",
    "        for x2, y2 in board[i+1:]:\n",
    "            if x1 == x2:\n",
    "                return False\n",
    "            elif y1 == y2:\n",
    "                return False\n",
    "            elif x2 - x1 == y2 - y1:\n",
    "                return False\n",
    "            elif x2 - x1 == y1 - y2:\n",
    "                return False\n",
    "\n",
    "    # no test has failed, all queens safe\n",
    "    return True"
   ]
  },
  {
   "cell_type": "code",
   "execution_count": 15,
   "id": "ff1411e7",
   "metadata": {},
   "outputs": [],
   "source": [
    "def print_board(board, n=8):\n",
    "\n",
    "    rows = []\n",
    "    for i in range(n):\n",
    "        column = []\n",
    "        for j in range(n):\n",
    "            if (i,j) in board:\n",
    "                column.append('Q')\n",
    "            else:\n",
    "                column.append('-')\n",
    "        rows.append(' '.join(column))\n",
    "    print('\\n'.join(rows))"
   ]
  },
  {
   "cell_type": "code",
   "execution_count": 31,
   "id": "7d6060cc",
   "metadata": {},
   "outputs": [
    {
     "name": "stdout",
     "output_type": "stream",
     "text": [
      "Total non-unique solutions: 40\n",
      "CPU times: user 20.8 s, sys: 0 ns, total: 20.8 s\n",
      "Wall time: 20.8 s\n"
     ]
    }
   ],
   "source": [
    "def brute_force(n, with_print):\n",
    "    ok = 0\n",
    "    for board in generate_boards(n):\n",
    "        if is_safe_board(board, n):\n",
    "            ok += 1\n",
    "            if with_print:\n",
    "                print(\"-----------\")\n",
    "                print_board(board, n)\n",
    "                print(\"-----------\")\n",
    "    print(f\"Total non-unique solutions: {ok}\")\n",
    "\n",
    "%time brute_force(n=7, with_print=False)"
   ]
  },
  {
   "cell_type": "code",
   "execution_count": 29,
   "id": "b07f66bc",
   "metadata": {},
   "outputs": [],
   "source": [
    "# Back-Track DFS Solution"
   ]
  },
  {
   "cell_type": "code",
   "execution_count": 32,
   "id": "56f0c39e",
   "metadata": {},
   "outputs": [],
   "source": [
    "def place_queens(board, row, n=8):\n",
    "    if row == n:\n",
    "        yield board\n",
    "\n",
    "    for col in range(n):\n",
    "        safe = True\n",
    "        for r, c in board:\n",
    "            if c == col or abs(r - row) == abs(c - col):\n",
    "                safe = False\n",
    "                break\n",
    "\n",
    "        if safe:\n",
    "            yield from place_queens(board + [(row, col)], row + 1, n)"
   ]
  },
  {
   "cell_type": "code",
   "execution_count": 35,
   "id": "14ed6ec0",
   "metadata": {},
   "outputs": [
    {
     "name": "stdout",
     "output_type": "stream",
     "text": [
      "Total non-unique solutions: 40\n",
      "CPU times: user 5.29 ms, sys: 9 µs, total: 5.29 ms\n",
      "Wall time: 4.14 ms\n"
     ]
    }
   ],
   "source": [
    "def backtrack_dfs(n, with_print):\n",
    "    ok = 0\n",
    "    for board in place_queens([],0,n=n):\n",
    "        ok += 1\n",
    "        if with_print:\n",
    "            print_board(board,n)\n",
    "    print(f\"Total non-unique solutions: {ok}\")\n",
    "\n",
    "%time backtrack_dfs(n=7, with_print=False)"
   ]
  }
 ],
 "metadata": {
  "kernelspec": {
   "display_name": "Python 3 (ipykernel)",
   "language": "python",
   "name": "python3"
  },
  "language_info": {
   "codemirror_mode": {
    "name": "ipython",
    "version": 3
   },
   "file_extension": ".py",
   "mimetype": "text/x-python",
   "name": "python",
   "nbconvert_exporter": "python",
   "pygments_lexer": "ipython3",
   "version": "3.12.3"
  }
 },
 "nbformat": 4,
 "nbformat_minor": 5
}
